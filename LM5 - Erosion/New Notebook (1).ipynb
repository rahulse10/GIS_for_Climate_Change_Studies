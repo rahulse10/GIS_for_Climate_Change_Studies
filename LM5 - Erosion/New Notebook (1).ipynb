{
 "cells": [
  {
   "cell_type": "code",
   "execution_count": 1,
   "metadata": {},
   "outputs": [],
   "source": [
    "# Import system modules\n",
    "import arcpy\n",
    "from arcpy import env\n",
    "arcpy.CheckOutExtension(\"Spatial\")\n",
    "arcpy.env.overwriteOutput = True"
   ]
  },
  {
   "cell_type": "code",
   "execution_count": 2,
   "metadata": {},
   "outputs": [],
   "source": [
    "##folder\n",
    "Res_fld = r\"G:\\UEP\\GIS\\Modules\\GIS for Climate Change\\LM5\\MyProject13\""
   ]
  },
  {
   "cell_type": "code",
   "execution_count": 3,
   "metadata": {},
   "outputs": [],
   "source": [
    "##workspace\n",
    "env.workspace = r\"G:\\UEP\\GIS\\Modules\\GIS for Climate Change\\LM5\\MyProject13\\MyProject13.gdb\""
   ]
  },
  {
   "cell_type": "code",
   "execution_count": 4,
   "metadata": {},
   "outputs": [],
   "source": [
    "# Set Geoprocessing environments\n",
    "arcpy.env.snapRaster = \"DEM_fill\"\n",
    "arcpy.env.extent = \"DEM_fill\""
   ]
  },
  {
   "cell_type": "code",
   "execution_count": 5,
   "metadata": {},
   "outputs": [
    {
     "data": {
      "text/html": [
       "<div class='gpresult'><h2>Messages</h2><div id='messages' data-messages='[\"Start Time: 19 March 2023 22:15:04\",\"Succeeded at 19 March 2023 22:15:17 (Elapsed Time: 13.47 seconds)\"]' data-show='true'><div id = 'default' /></div></div>"
      ],
      "text/plain": [
       "<geoprocessing server result object object at 0x0000023B89FE8AB0>"
      ]
     },
     "execution_count": 5,
     "metadata": {},
     "output_type": "execute_result"
    }
   ],
   "source": [
    "## seperate the sediments most prone for erosion (kategori = 3) - change the expression to make selection for also lower values erodeness kategories \n",
    "arcpy.analysis.Select(\"fcSediments_Clip\", \"fcSediments_Cat23\", \"Kategori > 1\")\n",
    "arcpy.PolygonToRaster_conversion(\"fcSediments_Cat23\", \"Kategori\", \"rSediments_temp_23\", \"MAXIMUM_AREA\", \"\", 1.0)\n",
    "arcpy.gp.Reclassify_sa(\"rSediments_temp_23\", \"Value\", \"0 NODATA;3 1\", \"rSediments_Cat23\", \"DATA\")\n"
   ]
  },
  {
   "cell_type": "code",
   "execution_count": 6,
   "metadata": {},
   "outputs": [
    {
     "name": "stdout",
     "output_type": "stream",
     "text": [
      "Preparing erosion layer\n",
      "    Identify erosion prone areas\n",
      "    Convert erosion exposed areas to polygon feature\n",
      "    Remove all erosion-polygon that only occupy one pixel's area\n"
     ]
    },
    {
     "data": {
      "text/html": [
       "<div class='gpresult'><h2>Messages</h2><div id='messages' data-messages='[\"Start Time: 19 March 2023 22:17:14\",\"Succeeded at 19 March 2023 22:17:16 (Elapsed Time: 2.33 seconds)\"]' data-show='true'><div id = 'default' /></div></div>"
      ],
      "text/plain": [
       "<Result 'G:\\\\UEP\\\\GIS\\\\Modules\\\\GIS for Climate Change\\\\LM5\\\\MyProject13\\\\MyProject13.gdb\\\\fcErosjon_Cat23'>"
      ]
     },
     "execution_count": 6,
     "metadata": {},
     "output_type": "execute_result"
    }
   ],
   "source": [
    "print (\"Preparing erosion layer\")\n",
    "print (\"    Identify erosion prone areas\")\n",
    "arcpy.gp.Times_sa(\"rSediments_Cat23\", \"rFlowAcc200MFD\", \"rTemp1_2\")\n",
    "arcpy.gp.Times_sa(\"rTemp1_2\", \"rSlope10\", \"rTemp2_3\")\n",
    "arcpy.gp.Reclassify_sa(\"rTemp2_3\", \"Value\", \"0 NODATA;1 1\", \"rErosjon_Cat23\", \"DATA\")\n",
    "print (\"    Convert erosion exposed areas to polygon feature\")\n",
    "arcpy.RasterToPolygon_conversion(\"rErosjon_Cat23\", \"fcErosjon_tmp_1\", \"NO_SIMPLIFY\", \"Value\", \"SINGLE_OUTER_PART\", \"\")\n",
    "print (\"    Remove all erosion-polygon that only occupy one pixel's area\")\n",
    "arcpy.analysis.Select(\"fcErosjon_tmp_1\", \"fcErosjon_Cat23\", \"Shape_Area > 1\")"
   ]
  },
  {
   "cell_type": "code",
   "execution_count": null,
   "metadata": {},
   "outputs": [],
   "source": []
  }
 ],
 "metadata": {
  "kernelspec": {
   "display_name": "ArcGISPro",
   "language": "Python",
   "name": "python3"
  },
  "language_info": {
   "file_extension": ".py",
   "name": "python",
   "version": "3"
  }
 },
 "nbformat": 4,
 "nbformat_minor": 2
}
