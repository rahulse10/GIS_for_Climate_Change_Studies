{
 "cells": [
  {
   "cell_type": "code",
   "execution_count": 1,
   "metadata": {},
   "outputs": [],
   "source": [
    "# Import system modules\n",
    "import arcpy\n",
    "from arcpy import env\n",
    "arcpy.CheckOutExtension(\"Spatial\")\n",
    "arcpy.env.overwriteOutput = True"
   ]
  },
  {
   "cell_type": "code",
   "execution_count": 2,
   "metadata": {},
   "outputs": [],
   "source": [
    "##folder\n",
    "Res_fld = r\"G:\\UEP\\GIS\\Modules\\GIS for Climate Change\\LM5\\MyProject13\""
   ]
  },
  {
   "cell_type": "code",
   "execution_count": 3,
   "metadata": {},
   "outputs": [],
   "source": [
    "##workspace\n",
    "env.workspace = r\"G:\\UEP\\GIS\\Modules\\GIS for Climate Change\\LM5\\MyProject13\\MyProject13.gdb\""
   ]
  },
  {
   "cell_type": "code",
   "execution_count": 4,
   "metadata": {},
   "outputs": [],
   "source": [
    "## Set Geoprocessing environments\n",
    "arcpy.env.snapRaster = \"DEM_fill\"\n",
    "arcpy.env.extent = \"DEM_fill\""
   ]
  },
  {
   "cell_type": "code",
   "execution_count": 5,
   "metadata": {},
   "outputs": [
    {
     "name": "stdout",
     "output_type": "stream",
     "text": [
      "Preparing slope ...\n"
     ]
    },
    {
     "data": {
      "text/html": [
       "<div class='gpresult'><h2>Messages</h2><div id='messages' data-messages='[\"Start Time: 17 March 2023 22:44:28\",\"Succeeded at 17 March 2023 22:44:51 (Elapsed Time: 22.87 seconds)\"]' data-show='true'><div id = 'default' /></div></div>"
      ],
      "text/plain": [
       "<Result 'G:\\\\UEP\\\\GIS\\\\Modules\\\\GIS for Climate Change\\\\LM5\\\\MyProject13\\\\MyProject13.gdb\\\\rSlope'>"
      ]
     },
     "execution_count": 5,
     "metadata": {},
     "output_type": "execute_result"
    }
   ],
   "source": [
    "print (\"Preparing slope ...\")\n",
    "arcpy.Slope_3d(\"DEM_fill\", \"rSlope\", \"DEGREE\")"
   ]
  },
  {
   "cell_type": "code",
   "execution_count": 6,
   "metadata": {},
   "outputs": [
    {
     "name": "stdout",
     "output_type": "stream",
     "text": [
      "Reclassify - 10 degrees slopes = 1\n"
     ]
    },
    {
     "data": {
      "text/html": [
       "<div class='gpresult'><h2>Messages</h2><div id='messages' data-messages='[\"Start Time: 17 March 2023 22:45:14\",\"Succeeded at 17 March 2023 22:45:29 (Elapsed Time: 15.51 seconds)\"]' data-show='true'><div id = 'default' /></div></div>"
      ],
      "text/plain": [
       "<geoprocessing server result object object at 0x00000199691774E0>"
      ]
     },
     "execution_count": 6,
     "metadata": {},
     "output_type": "execute_result"
    }
   ],
   "source": [
    "print (\"Reclassify - 10 degrees slopes = 1\")\n",
    "arcpy.gp.Reclassify_sa(\"rSlope\", \"Value\", \"0 10 NODATA;10 90 1\", \"rSlope10\", \"DATA\")"
   ]
  },
  {
   "cell_type": "code",
   "execution_count": 7,
   "metadata": {},
   "outputs": [
    {
     "name": "stdout",
     "output_type": "stream",
     "text": [
      "Prepare the Flow Accumulation Raster ...\n",
      "    Generate a MFD  raster\n"
     ]
    },
    {
     "data": {
      "text/html": [
       "<div class='gpresult'><h2>Messages</h2><div id='messages' data-messages='[\"Start Time: 17 March 2023 22:45:35\",\"Temporary data will be created in C:\\\\Users\\\\IP500\\\\AppData\\\\Local\\\\Temp\\\\ArcGISProTemp9324\\\\sd1bb12a6_7654_4be5_8a75_1b21bd5ad5e2\",\"9,624 MB of temporary storage is estimated to be needed. 32,930 MB of storage is currently available.\",\"Distributing operation across 2 parallel instances.\",\"2023-03-17T22:45:43.093: Initialization Phase ...\",\"2023-03-17T22:46:25.592: Iteration Phase ...\",\"2023-03-17T22:46:59.365: Completion Phase ...\",\"2,264 MB of temporary storage was used.\",\"Succeeded at 17 March 2023 22:47:32 (Elapsed Time: 1 minutes 57 seconds)\"]' data-show='true'><div id = 'default' /></div></div>"
      ],
      "text/plain": [
       "<geoprocessing server result object object at 0x000001996BF69660>"
      ]
     },
     "execution_count": 7,
     "metadata": {},
     "output_type": "execute_result"
    }
   ],
   "source": [
    "print (\"Prepare the Flow Accumulation Raster ...\")\n",
    "print (\"    Generate a MFD  raster\")\n",
    "FlowDirMFD = Res_fld + \"FlowDirMFD.crf\"\n",
    "arcpy.gp.FlowDirection_sa(\"DEM_fill\", FlowDirMFD, \"NORMAL\", \"\", \"MFD\")\n"
   ]
  },
  {
   "cell_type": "code",
   "execution_count": 8,
   "metadata": {},
   "outputs": [
    {
     "name": "stdout",
     "output_type": "stream",
     "text": [
      "    Generate Flow Accumulation Raster\n"
     ]
    },
    {
     "data": {
      "text/html": [
       "<div class='gpresult'><h2>Messages</h2><div id='messages' data-messages='[\"Start Time: 17 March 2023 22:49:05\",\"Temporary data will be created in C:\\\\Users\\\\IP500\\\\AppData\\\\Local\\\\Temp\\\\ArcGISProTemp9324\\\\s3d365b1d_fd0b_43d0_a12f_3245ce6e8ccd\",\"\\u003cunknown\\u003e MB of temporary storage is estimated to be needed. 32,929 MB of storage is currently available.\",\"Distributing operation across 2 parallel instances.\",\"2023-03-17T22:49:14.363: Initialization Phase ...\",\"2023-03-17T22:53:37.685: Iteration Phase ...\",\"2023-03-17T23:23:28.306: Completion Phase ...\",\"Succeeded at 17 March 2023 23:23:36 (Elapsed Time: 34 minutes 31 seconds)\"]' data-show='true'><div id = 'default' /></div></div>"
      ],
      "text/plain": [
       "<geoprocessing server result object object at 0x000001996C1742D0>"
      ]
     },
     "execution_count": 8,
     "metadata": {},
     "output_type": "execute_result"
    }
   ],
   "source": [
    "print (\"    Generate Flow Accumulation Raster\")\n",
    "arcpy.gp.FlowAccumulation_sa(FlowDirMFD, \"rFlowAccMFD\", \"\", \"INTEGER\", \"MFD\")\n"
   ]
  },
  {
   "cell_type": "code",
   "execution_count": 9,
   "metadata": {},
   "outputs": [
    {
     "name": "stdout",
     "output_type": "stream",
     "text": [
      "    Reclassify the FlowAcc raster to highlight surface flow\n"
     ]
    },
    {
     "data": {
      "text/html": [
       "<div class='gpresult'><h2>Messages</h2><div id='messages' data-messages='[\"Start Time: 17 March 2023 23:28:46\",\"Succeeded at 17 March 2023 23:29:07 (Elapsed Time: 21.25 seconds)\"]' data-show='true'><div id = 'default' /></div></div>"
      ],
      "text/plain": [
       "<geoprocessing server result object object at 0x000001996C1744B0>"
      ]
     },
     "execution_count": 9,
     "metadata": {},
     "output_type": "execute_result"
    }
   ],
   "source": [
    "print (\"    Reclassify the FlowAcc raster to highlight surface flow\")\n",
    "arcpy.gp.Reclassify_sa(\"rFlowAccMFD\", \"Value\", \"-2147483648 200 NODATA;200 2009479709 1\", \"rFlowAcc200MFD\", \"DATA\")"
   ]
  },
  {
   "cell_type": "code",
   "execution_count": 13,
   "metadata": {},
   "outputs": [
    {
     "name": "stdout",
     "output_type": "stream",
     "text": [
      "Preparing sediment layer\n",
      "    Clip sediment feature class to study area...\n",
      "    Join field with erosion prone ranking\n"
     ]
    },
    {
     "data": {
      "text/html": [
       "<div class='gpresult'><h2>Messages</h2><div id='messages' data-messages='[\"Start Time: 17 March 2023 23:35:26\",\"Succeeded at 17 March 2023 23:35:27 (Elapsed Time: 0.36 seconds)\"]' data-show='true'><div id = 'default' /></div></div>"
      ],
      "text/plain": [
       "<Result 'fcSediments_Clip'>"
      ]
     },
     "execution_count": 13,
     "metadata": {},
     "output_type": "execute_result"
    }
   ],
   "source": [
    "print (\"Preparing sediment layer\")\n",
    "print (\"    Clip sediment feature class to study area...\")\n",
    "arcpy.Clip_analysis(\"fcSediments\", \"MyWatershed_Land\", \"fcSediments_Clip\")\n",
    "print (\"    Join field with erosion prone ranking\")\n",
    "arcpy.JoinField_management(\"fcSediments_Clip\", \"losmassetype\", \"LookUpTable4Erosion\", \"Kode\", [\"Kategori\"])"
   ]
  },
  {
   "cell_type": "code",
   "execution_count": 14,
   "metadata": {},
   "outputs": [
    {
     "data": {
      "text/html": [
       "<div class='gpresult'><h2>Messages</h2><div id='messages' data-messages='[\"Start Time: 17 March 2023 23:35:42\",\"Succeeded at 17 March 2023 23:36:00 (Elapsed Time: 18.23 seconds)\"]' data-show='true'><div id = 'default' /></div></div>"
      ],
      "text/plain": [
       "<geoprocessing server result object object at 0x000001996C238F90>"
      ]
     },
     "execution_count": 14,
     "metadata": {},
     "output_type": "execute_result"
    }
   ],
   "source": [
    "## seperate the sediments most prone for erosion (kategori = 3) - change the expression to make selection for also lower values erodeness kategories \n",
    "arcpy.analysis.Select(\"fcSediments_Clip\", \"fcSediments_Cat3\", \"Kategori > 2\")\n",
    "arcpy.PolygonToRaster_conversion(\"fcSediments_Cat3\", \"Kategori\", \"rSediments_temp\", \"MAXIMUM_AREA\", \"\", 1.0)\n",
    "arcpy.gp.Reclassify_sa(\"rSediments_temp\", \"Value\", \"0 NODATA;3 1\", \"rSediments_Cat3\", \"DATA\")"
   ]
  },
  {
   "cell_type": "code",
   "execution_count": 15,
   "metadata": {},
   "outputs": [
    {
     "name": "stdout",
     "output_type": "stream",
     "text": [
      "Preparing erosion layer\n",
      "    Identify erosion prone areas\n",
      "    Convert erosion exposed areas to polygon feature\n",
      "    Remove all erosion-polygon that only occupy one pixel's area\n"
     ]
    },
    {
     "data": {
      "text/html": [
       "<div class='gpresult'><h2>Messages</h2><div id='messages' data-messages='[\"Start Time: 17 March 2023 23:37:22\",\"Succeeded at 17 March 2023 23:37:23 (Elapsed Time: 1.00 seconds)\"]' data-show='true'><div id = 'default' /></div></div>"
      ],
      "text/plain": [
       "<Result 'G:\\\\UEP\\\\GIS\\\\Modules\\\\GIS for Climate Change\\\\LM5\\\\MyProject13\\\\MyProject13.gdb\\\\fcErosjon_Cat3'>"
      ]
     },
     "execution_count": 15,
     "metadata": {},
     "output_type": "execute_result"
    }
   ],
   "source": [
    "print (\"Preparing erosion layer\")\n",
    "print (\"    Identify erosion prone areas\")\n",
    "arcpy.gp.Times_sa(\"rSediments_Cat3\", \"rFlowAcc200MFD\", \"rTemp1\")\n",
    "arcpy.gp.Times_sa(\"rTemp1\", \"rSlope10\", \"rTemp2\")\n",
    "arcpy.gp.Reclassify_sa(\"rTemp2\", \"Value\", \"0 NODATA;1 1\", \"rErosjon_Cat3\", \"DATA\")\n",
    "print (\"    Convert erosion exposed areas to polygon feature\")\n",
    "arcpy.RasterToPolygon_conversion(\"rErosjon_Cat3\", \"fcErosjon_tmp\", \"NO_SIMPLIFY\", \"Value\", \"SINGLE_OUTER_PART\", \"\")\n",
    "print (\"    Remove all erosion-polygon that only occupy one pixel's area\")\n",
    "arcpy.analysis.Select(\"fcErosjon_tmp\", \"fcErosjon_Cat3\", \"Shape_Area > 1\")\n"
   ]
  },
  {
   "cell_type": "code",
   "execution_count": null,
   "metadata": {},
   "outputs": [],
   "source": []
  }
 ],
 "metadata": {
  "kernelspec": {
   "display_name": "ArcGISPro",
   "language": "Python",
   "name": "python3"
  },
  "language_info": {
   "file_extension": ".py",
   "name": "python",
   "version": "3"
  }
 },
 "nbformat": 4,
 "nbformat_minor": 2
}
