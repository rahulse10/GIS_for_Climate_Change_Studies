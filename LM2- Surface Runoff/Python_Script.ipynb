{
 "cells": [
  {
   "cell_type": "code",
   "execution_count": 2,
   "metadata": {},
   "outputs": [
    {
     "data": {
      "text/plain": [
       "'CheckedOut'"
      ]
     },
     "execution_count": 2,
     "metadata": {},
     "output_type": "execute_result"
    }
   ],
   "source": [
    "# Import system modules\n",
    "import arcpy\n",
    "from arcpy import env\n",
    "\n",
    "arcpy.CheckOutExtension(\"Spatial\")\n"
   ]
  },
  {
   "cell_type": "code",
   "execution_count": 3,
   "metadata": {},
   "outputs": [],
   "source": [
    "## Set Geoprocessing environments\n",
    "arcpy.env.overwriteOutput = True\n",
    "env.workspace =  r\"G:\\UEP\\GIS\\Modules\\GIS for Climate Change\\LM2\\MyProject12\\MyProject12.gdb\"\n",
    "arcpy.env.snapRaster = \"Times_MyDEM1\"\n",
    "arcpy.env.extent = \"Times_MyDEM1\""
   ]
  },
  {
   "cell_type": "code",
   "execution_count": 4,
   "metadata": {},
   "outputs": [
    {
     "name": "stdout",
     "output_type": "stream",
     "text": [
      "Make a hydro-corrected dem\n"
     ]
    },
    {
     "data": {
      "text/html": [
       "<div class='gpresult'><h2>Messages</h2><div id='messages' data-messages='[\"Start Time: 18 February 2023 15:29:48\",\"Temporary data will be created in C:\\\\Users\\\\IP500\\\\AppData\\\\Local\\\\Temp\\\\ArcGISProTemp17316\\\\s8c292e0d_6ff6_41c0_902c_be63e484d259\",\"756 MB of temporary storage is estimated to be needed. 34,294 MB of storage is currently available.\",\"Distributing operation across 2 parallel instances.\",\"2023-02-18T15:29:59.584: Initialization Phase ...\",\"2023-02-18T15:30:34.434: Iteration Phase ...\",\"2023-02-18T15:31:39.755: Completion Phase ...\",\"339 MB of temporary storage was used.\",\"Succeeded at 18 February 2023 15:32:03 (Elapsed Time: 2 minutes 14 seconds)\"]' data-show='true'><div id = 'default' /></div></div>"
      ],
      "text/plain": [
       "<geoprocessing server result object object at 0x00000204BE15D270>"
      ]
     },
     "execution_count": 4,
     "metadata": {},
     "output_type": "execute_result"
    }
   ],
   "source": [
    "print (\"Make a hydro-corrected dem\")\n",
    "arcpy.gp.Fill_sa(\"Times_MyDEM1\", \"dem_hydro\")"
   ]
  },
  {
   "cell_type": "code",
   "execution_count": 5,
   "metadata": {},
   "outputs": [
    {
     "name": "stdout",
     "output_type": "stream",
     "text": [
      "Generate a D8 directional raster\n"
     ]
    },
    {
     "data": {
      "text/html": [
       "<div class='gpresult'><h2>Messages</h2><div id='messages' data-messages='[\"Start Time: 18 February 2023 15:32:19\",\"Temporary data will be created in C:\\\\Users\\\\IP500\\\\AppData\\\\Local\\\\Temp\\\\ArcGISProTemp17316\\\\scf0d5035_0819_4905_95ee_a62eb7db8b33\",\"1,512 MB of temporary storage is estimated to be needed. 34,280 MB of storage is currently available.\",\"Distributing operation across 2 parallel instances.\",\"2023-02-18T15:32:35.537: Initialization Phase ...\",\"2023-02-18T15:32:58.096: Iteration Phase ...\",\"2023-02-18T15:33:13.580: Completion Phase ...\",\"679 MB of temporary storage was used.\",\"Succeeded at 18 February 2023 15:33:33 (Elapsed Time: 1 minutes 14 seconds)\"]' data-show='true'><div id = 'default' /></div></div>"
      ],
      "text/plain": [
       "<geoprocessing server result object object at 0x00000204C905B2A0>"
      ]
     },
     "execution_count": 5,
     "metadata": {},
     "output_type": "execute_result"
    }
   ],
   "source": [
    "print (\"Generate a D8 directional raster\")\n",
    "arcpy.gp.FlowDirection_sa(\"dem_hydro\", \"FlowDir\", \"NORMAL\", \"\", \"D8\")"
   ]
  },
  {
   "cell_type": "code",
   "execution_count": 6,
   "metadata": {},
   "outputs": [
    {
     "name": "stdout",
     "output_type": "stream",
     "text": [
      "Generate Flow Accumulation Raster\n"
     ]
    },
    {
     "data": {
      "text/html": [
       "<div class='gpresult'><h2>Messages</h2><div id='messages' data-messages='[\"Start Time: 18 February 2023 15:35:26\",\"Temporary data will be created in C:\\\\Users\\\\IP500\\\\AppData\\\\Local\\\\Temp\\\\ArcGISProTemp17316\\\\saa26256a_27e2_432d_b6d1_9d9acfa2b6f4\",\"\\u003cunknown\\u003e MB of temporary storage is estimated to be needed. 34,024 MB of storage is currently available.\",\"Distributing operation across 2 parallel instances.\",\"2023-02-18T15:35:36.190: Initialization Phase ...\",\"2023-02-18T15:36:07.391: Iteration Phase ...\",\"2023-02-18T15:37:29.425: Completion Phase ...\",\"Succeeded at 18 February 2023 15:37:41 (Elapsed Time: 2 minutes 14 seconds)\"]' data-show='true'><div id = 'default' /></div></div>"
      ],
      "text/plain": [
       "<geoprocessing server result object object at 0x00000204C9031D80>"
      ]
     },
     "execution_count": 6,
     "metadata": {},
     "output_type": "execute_result"
    }
   ],
   "source": [
    "print (\"Generate Flow Accumulation Raster\")\n",
    "arcpy.gp.FlowAccumulation_sa(\"FlowDir\", \"FlowAcc\", \"\", \"INTEGER\", \"D8\")"
   ]
  },
  {
   "cell_type": "code",
   "execution_count": 7,
   "metadata": {},
   "outputs": [
    {
     "name": "stdout",
     "output_type": "stream",
     "text": [
      "Reclassify the FlowAcc raster to highlight surface flow\n"
     ]
    },
    {
     "data": {
      "text/html": [
       "<div class='gpresult'><h2>Messages</h2><div id='messages' data-messages='[\"Start Time: 18 February 2023 15:50:30\",\"Succeeded at 18 February 2023 15:50:42 (Elapsed Time: 12.43 seconds)\"]' data-show='true'><div id = 'default' /></div></div>"
      ],
      "text/plain": [
       "<geoprocessing server result object object at 0x00000204BE15D0F0>"
      ]
     },
     "execution_count": 7,
     "metadata": {},
     "output_type": "execute_result"
    }
   ],
   "source": [
    "print (\"Reclassify the FlowAcc raster to highlight surface flow\") \n",
    "arcpy.gp.Reclassify_sa(\"FlowAcc\", \"Value\", \"-2147483648 10000 NODATA;10000 2009479709 1\", \"FlowAcc10\", \"DATA\")\n",
    "arcpy.gp.StreamToFeature_sa(\"FlowAcc10\", \"FlowDir\", \"fcFlowLine\", \"NO_SIMPLIFY\")"
   ]
  },
  {
   "cell_type": "code",
   "execution_count": 1,
   "metadata": {},
   "outputs": [],
   "source": [
    "#print (\"Remove parts of the flow lines that is located in the fjord ...\")\n",
    "#arcpy.Clip_analysis(\"fcFlowLine\", \"Bekksneset_Land\", \"fcFlowLine2\")\n"
   ]
  },
  {
   "cell_type": "code",
   "execution_count": null,
   "metadata": {},
   "outputs": [],
   "source": []
  }
 ],
 "metadata": {
  "kernelspec": {
   "display_name": "ArcGISPro",
   "language": "Python",
   "name": "python3"
  },
  "language_info": {
   "file_extension": ".py",
   "name": "python",
   "version": "3"
  }
 },
 "nbformat": 4,
 "nbformat_minor": 2
}
