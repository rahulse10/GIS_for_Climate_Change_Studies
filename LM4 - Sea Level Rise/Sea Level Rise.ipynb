{
 "cells": [
  {
   "cell_type": "code",
   "execution_count": 1,
   "metadata": {},
   "outputs": [],
   "source": [
    "import arcpy\n",
    "from arcpy import env\n",
    "arcpy.env.overwriteOutput = True\n",
    "arcpy.env.workspace = r\"G:\\UEP\\GIS\\Modules\\GIS for Climate Change\\LM4\\Sea Level\\Sea Level.gdb\"\n",
    "dem = \"MyDEM\""
   ]
  },
  {
   "cell_type": "code",
   "execution_count": 2,
   "metadata": {},
   "outputs": [
    {
     "data": {
      "text/plain": [
       "'CheckedOut'"
      ]
     },
     "execution_count": 2,
     "metadata": {},
     "output_type": "execute_result"
    }
   ],
   "source": [
    "# Check out any necessary licenses.\n",
    "arcpy.CheckOutExtension(\"spatial\")"
   ]
  },
  {
   "cell_type": "code",
   "execution_count": 3,
   "metadata": {},
   "outputs": [
    {
     "name": "stdout",
     "output_type": "stream",
     "text": [
      "565.682006835938\n"
     ]
    }
   ],
   "source": [
    "# Get maximum value in elevation raster\n",
    "max_r = float(arcpy.GetRasterProperties_management(dem, \"MAXIMUM\").getOutput(0))\n",
    "print (max_r)"
   ]
  },
  {
   "cell_type": "code",
   "execution_count": 4,
   "metadata": {},
   "outputs": [],
   "source": [
    "# Create a list of the scenarios you want to examine, e.g [1, 2, 3]\n",
    "scenarios = [1, 2, 3, 4, 5, 6, 7]  # list of scenarios"
   ]
  },
  {
   "cell_type": "code",
   "execution_count": 5,
   "metadata": {},
   "outputs": [
    {
     "name": "stdout",
     "output_type": "stream",
     "text": [
      "Analysing scenario of  1 m sea level rise\n",
      "Analysing scenario of  2 m sea level rise\n",
      "Analysing scenario of  3 m sea level rise\n",
      "Analysing scenario of  4 m sea level rise\n",
      "Analysing scenario of  5 m sea level rise\n",
      "Analysing scenario of  6 m sea level rise\n",
      "Analysing scenario of  7 m sea level rise\n"
     ]
    }
   ],
   "source": [
    "# Perform analysis for each scenario of sea level rise\n",
    "for num in scenarios:\n",
    "    print(\"Analysing scenario of \", str(num), \"m sea level rise\")\n",
    "    out_reclass = \"Sealevel_\" + str(num) + \"m\"\n",
    "    # reclassify rasters so that values from -10 to the given sea level scenario (in m) gets the value of 1\n",
    "    # and values above the sea level scenario to the max value in the raster is assigned NODATA\n",
    "    remap = \"-10 \" + str(num) + \" 1;\" + str(num) + \" \" + str(max_r) + \" NODATA\"\n",
    "    reclassed = arcpy.sa.Reclassify(dem, \"VALUE\", remap)\n",
    "    reclassed.save(out_reclass)\n",
    "    out_fc = \"fcSealevel_\" + str(num) + \"m\"\n",
    "    out_poly = arcpy.conversion.RasterToPolygon(out_reclass, out_fc, \"NO_SIMPLIFY\", \"VALUE\")\n"
   ]
  },
  {
   "cell_type": "code",
   "execution_count": null,
   "metadata": {},
   "outputs": [],
   "source": []
  }
 ],
 "metadata": {
  "kernelspec": {
   "display_name": "ArcGISPro",
   "language": "Python",
   "name": "python3"
  },
  "language_info": {
   "file_extension": ".py",
   "name": "python",
   "version": "3"
  }
 },
 "nbformat": 4,
 "nbformat_minor": 2
}
