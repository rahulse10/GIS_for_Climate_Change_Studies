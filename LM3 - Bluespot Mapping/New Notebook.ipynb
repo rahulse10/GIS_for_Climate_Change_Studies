{
 "cells": [
  {
   "cell_type": "code",
   "execution_count": 1,
   "metadata": {},
   "outputs": [],
   "source": [
    "# Import system modules\n",
    "import arcpy\n",
    "from arcpy import env\n",
    "from arcpy.sa import *"
   ]
  },
  {
   "cell_type": "code",
   "execution_count": 2,
   "metadata": {},
   "outputs": [],
   "source": [
    "arcpy.env.overwriteOutput = True\n",
    "# To run the script, the following datasets must be available in the geodatabase set below:\n",
    "#   MyDEM - a digital elevation model for \"your\" watershed with spatial resolution 1m x 1m\n",
    "#   rBuildings - a raster representation for buildings in \"your\" watershed area \n",
    "#   rWaterbodies - a raster representation for lakes (but not rivers) for \"your\" watershed area"
   ]
  },
  {
   "cell_type": "code",
   "execution_count": 4,
   "metadata": {},
   "outputs": [],
   "source": [
    "#workspace\n",
    "env.workspace = (r\"\\\\Laptop-41p6i7do\\uep\\GIS\\Modules\\GIS for Climate Change\\LM3\\LM3 Bluespots/LM3 Bluespots.gdb\")"
   ]
  },
  {
   "cell_type": "code",
   "execution_count": 5,
   "metadata": {},
   "outputs": [
    {
     "name": "stdout",
     "output_type": "stream",
     "text": [
      "Fill all sinks\n"
     ]
    },
    {
     "data": {
      "text/html": [
       "<div class='gpresult'><h2>Messages</h2><div id='messages' data-messages='[\"Start Time: 04 March 2023 13:49:10\",\"Temporary data will be created in C:\\\\Users\\\\rahul\\\\AppData\\\\Local\\\\Temp\\\\ArcGISProTemp19772\\\\s3d91cd3a_bb3d_4a57_80fa_fb9e98148612\",\"528 MB of temporary storage is estimated to be needed. 553,907 MB of storage is currently available.\",\"Distributing operation across 6 parallel instances.\",\"2023-03-04T13:49:41.994: Initialization Phase ...\",\"2023-03-04T13:49:47.678: Iteration Phase ...\",\"2023-03-04T13:49:50.540: Completion Phase ...\",\"317 MB of temporary storage was used.\",\"Succeeded at 04 March 2023 13:50:22 (Elapsed Time: 1 minutes 11 seconds)\"]' data-show='true'><div id = 'default' /></div></div>"
      ],
      "text/plain": [
       "<geoprocessing server result object object at 0x000001FA5B130D50>"
      ]
     },
     "execution_count": 5,
     "metadata": {},
     "output_type": "execute_result"
    }
   ],
   "source": [
    "print (\"Fill all sinks\")\n",
    "arcpy.gp.Fill_sa(\"MyDEM\", \"dem_asf\", \"\")"
   ]
  },
  {
   "cell_type": "code",
   "execution_count": 6,
   "metadata": {},
   "outputs": [
    {
     "name": "stdout",
     "output_type": "stream",
     "text": [
      "Fill only small sinks\n"
     ]
    },
    {
     "data": {
      "text/html": [
       "<div class='gpresult'><h2>Messages</h2><div id='messages' data-messages='[\"Start Time: 04 March 2023 13:55:01\",\"Temporary data will be created in C:\\\\Users\\\\rahul\\\\AppData\\\\Local\\\\Temp\\\\ArcGISProTemp19772\\\\s408f0528_b070_4fa8_834a_f85d78a18c51\",\"528 MB of temporary storage is estimated to be needed. 553,898 MB of storage is currently available.\",\"Distributing operation across 6 parallel instances.\",\"2023-03-04T13:55:33.028: Initialization Phase ...\",\"2023-03-04T13:55:37.934: Iteration Phase ...\",\"2023-03-04T13:55:40.732: Completion Phase ...\",\"317 MB of temporary storage was used.\",\"Succeeded at 04 March 2023 13:56:15 (Elapsed Time: 1 minutes 14 seconds)\"]' data-show='true'><div id = 'default' /></div></div>"
      ],
      "text/plain": [
       "<geoprocessing server result object object at 0x000001FA5AFF75D0>"
      ]
     },
     "execution_count": 6,
     "metadata": {},
     "output_type": "execute_result"
    }
   ],
   "source": [
    "print (\"Fill only small sinks\")\n",
    "arcpy.gp.Fill_sa(\"MyDEM\", \"dem_ssf\", \"0.2\")"
   ]
  },
  {
   "cell_type": "code",
   "execution_count": 7,
   "metadata": {},
   "outputs": [
    {
     "name": "stdout",
     "output_type": "stream",
     "text": [
      "Minus ...\n"
     ]
    },
    {
     "data": {
      "text/html": [
       "<div class='gpresult'><h2>Messages</h2><div id='messages' data-messages='[\"Start Time: 04 March 2023 13:56:45\",\"Succeeded at 04 March 2023 13:58:01 (Elapsed Time: 1 minutes 15 seconds)\"]' data-show='true'><div id = 'default' /></div></div>"
      ],
      "text/plain": [
       "<geoprocessing server result object object at 0x000001FA5B130300>"
      ]
     },
     "execution_count": 7,
     "metadata": {},
     "output_type": "execute_result"
    }
   ],
   "source": [
    "print (\"Minus ...\")\n",
    "arcpy.gp.Minus_sa(\"dem_asf\", \"dem_ssf\", \"Bluespot_CbC\")"
   ]
  },
  {
   "cell_type": "code",
   "execution_count": 8,
   "metadata": {},
   "outputs": [
    {
     "name": "stdout",
     "output_type": "stream",
     "text": [
      "Con ...\n"
     ]
    },
    {
     "data": {
      "text/html": [
       "<div class='gpresult'><h2>Messages</h2><div id='messages' data-messages='[\"Start Time: 04 March 2023 13:59:00\",\"Succeeded at 04 March 2023 13:59:40 (Elapsed Time: 39.39 seconds)\"]' data-show='true'><div id = 'default' /></div></div>"
      ],
      "text/plain": [
       "<geoprocessing server result object object at 0x000001FA5B130D50>"
      ]
     },
     "execution_count": 8,
     "metadata": {},
     "output_type": "execute_result"
    }
   ],
   "source": [
    "# Part_B - Exclude Buildings and Lakes\n",
    "print (\"Con ...\")\n",
    "## syntax for the Con tool: input, true, output, false, condition\n",
    "arcpy.gp.Con_sa(\"Bluespot_CbC\", \"1\", \"Bluespot_Pre\", \"0\", \"Value > 0\")"
   ]
  },
  {
   "cell_type": "code",
   "execution_count": 9,
   "metadata": {},
   "outputs": [
    {
     "name": "stdout",
     "output_type": "stream",
     "text": [
      "Exclude buildings from blue spots ...\n"
     ]
    },
    {
     "data": {
      "text/html": [
       "<div class='gpresult'><h2>Messages</h2><div id='messages' data-messages='[\"Start Time: 04 March 2023 16:47:24\",\"Succeeded at 04 March 2023 16:47:59 (Elapsed Time: 34.84 seconds)\"]' data-show='true'><div id = 'default' /></div></div>"
      ],
      "text/plain": [
       "<geoprocessing server result object object at 0x000001FA5B130F30>"
      ]
     },
     "execution_count": 9,
     "metadata": {},
     "output_type": "execute_result"
    }
   ],
   "source": [
    "print (\"Exclude buildings from blue spots ...\")\n",
    "arcpy.env.extent = \"MyDEM\"\n",
    "arcpy.ddd.Reclassify(\"rBuildings\", \"Value\", \"1 1;NODATA 0\", \"rBuildings2\", \"DATA\")\n",
    "arcpy.gp.Minus_sa(\"Bluespot_Pre\", \"rBuildings2\", \"Bluespot_NoBld\")\n",
    "arcpy.gp.Reclassify_sa(\"Bluespot_NoBld\", \"Value\", \"1 1;0 0;-1 0\", \"Bluespot_NoBld2\", \"DATA\")"
   ]
  },
  {
   "cell_type": "code",
   "execution_count": 10,
   "metadata": {},
   "outputs": [
    {
     "name": "stdout",
     "output_type": "stream",
     "text": [
      "Exclude water bodies from blue spots\n"
     ]
    },
    {
     "data": {
      "text/html": [
       "<div class='gpresult'><h2>Messages</h2><div id='messages' data-messages='[\"Start Time: 04 March 2023 16:52:43\",\"Succeeded at 04 March 2023 16:55:43 (Elapsed Time: 2 minutes 59 seconds)\"]' data-show='true'><div id = 'default' /></div></div>"
      ],
      "text/plain": [
       "<geoprocessing server result object object at 0x000001FA5B195C00>"
      ]
     },
     "execution_count": 10,
     "metadata": {},
     "output_type": "execute_result"
    }
   ],
   "source": [
    "print (\"Exclude water bodies from blue spots\")\n",
    "arcpy.ddd.Reclassify(\"rWaterbodies\", \"Value\", \"1 1;NODATA 0\", \"rWaterbodies2\", \"DATA\")\n",
    "arcpy.gp.Minus_sa(\"Bluespot_NoBld2\", \"rWaterbodies2\", \"Bluespot_NoBRC\")\n",
    "arcpy.gp.Reclassify_sa(\"Bluespot_NoBRC\", \"Value\", \"1 1;0 NODATA; -1 NODATA\", \"Bluespot_NoBRC2\", \"DATA\")\n",
    "arcpy.gp.RegionGroup_sa(\"Bluespot_NoBRC2\", \"BSRegions\", \"EIGHT\", \"WITHIN\", \"ADD_LINK\", \"0\")"
   ]
  },
  {
   "cell_type": "code",
   "execution_count": 11,
   "metadata": {},
   "outputs": [
    {
     "name": "stdout",
     "output_type": "stream",
     "text": [
      "Zonal Statistics as Table - depths\n"
     ]
    },
    {
     "data": {
      "text/html": [
       "<div class='gpresult'><h2>Messages</h2><div id='messages' data-messages='[\"Start Time: 04 March 2023 16:59:34\",\"Succeeded at 04 March 2023 16:59:39 (Elapsed Time: 4.39 seconds)\"]' data-show='true'><div id = 'default' /></div></div>"
      ],
      "text/plain": [
       "<Result 'BSRegions'>"
      ]
     },
     "execution_count": 11,
     "metadata": {},
     "output_type": "execute_result"
    }
   ],
   "source": [
    "# Part_c_ Calculate Volume of Each Bluespot\n",
    "print (\"Zonal Statistics as Table - depths\")\n",
    "arcpy.AddField_management(\"BSRegions\", \"Volume\", \"FLOAT\", \"\", \"\", \"\", \"\", \"NULLABLE\", \"NON_REQUIRED\", \"\")\n",
    "arcpy.gp.ZonalStatisticsAsTable_sa(\"BSRegions\", \"VALUE\", \"Bluespot_CbC\", \"Sum_Depths\", \"DATA\", \"SUM\")\n",
    "arcpy.JoinField_management(\"BSRegions\", \"Value\", \"Sum_Depths\", \"Value\", \"SUM\")\n",
    "arcpy.management.CalculateField(\"BSRegions\", \"Volume\", \"!SUM!\", \"PYTHON3\", \"\", \"TEXT\", \"NO_ENFORCE_DOMAINS\")\n",
    "arcpy.management.DeleteField(\"BSRegions\", \"SUM\", \"DELETE_FIELDS\")"
   ]
  },
  {
   "cell_type": "code",
   "execution_count": 12,
   "metadata": {},
   "outputs": [
    {
     "name": "stdout",
     "output_type": "stream",
     "text": [
      "Flow Direction\n"
     ]
    },
    {
     "data": {
      "text/html": [
       "<div class='gpresult'><h2>Messages</h2><div id='messages' data-messages='[\"Start Time: 04 March 2023 17:00:55\",\"Temporary data will be created in C:\\\\Users\\\\rahul\\\\AppData\\\\Local\\\\Temp\\\\ArcGISProTemp19772\\\\s9b677cd9_c8c1_46b1_9440_8f2d379dd323\",\"1,512 MB of temporary storage is estimated to be needed. 553,745 MB of storage is currently available.\",\"Distributing operation across 6 parallel instances.\",\"2023-03-04T17:01:29.468: Initialization Phase ...\",\"2023-03-04T17:01:36.741: Iteration Phase ...\",\"2023-03-04T17:01:38.859: Completion Phase ...\",\"679 MB of temporary storage was used.\",\"Succeeded at 04 March 2023 17:02:04 (Elapsed Time: 1 minutes 8 seconds)\"]' data-show='true'><div id = 'default' /></div></div>"
      ],
      "text/plain": [
       "<geoprocessing server result object object at 0x000001FA5B1302D0>"
      ]
     },
     "execution_count": 12,
     "metadata": {},
     "output_type": "execute_result"
    }
   ],
   "source": [
    "print (\"Flow Direction\")\n",
    "arcpy.gp.FlowDirection_sa(\"dem_asf\", \"FlowDir_asf\", \"NORMAL\", \"\", \"D8\")"
   ]
  },
  {
   "cell_type": "code",
   "execution_count": 13,
   "metadata": {},
   "outputs": [
    {
     "name": "stdout",
     "output_type": "stream",
     "text": [
      "Watershed\n"
     ]
    },
    {
     "data": {
      "text/html": [
       "<div class='gpresult'><h2>Messages</h2><div id='messages' data-messages='[\"Start Time: 04 March 2023 17:03:21\",\"Temporary data will be created in C:\\\\Users\\\\rahul\\\\AppData\\\\Local\\\\Temp\\\\ArcGISProTemp19772\\\\s044ac4a5_4522_4dd5_960f_c6509f686668\",\"755 MB of temporary storage is estimated to be needed. 553,493 MB of storage is currently available.\",\"Distributing operation across 6 parallel instances.\",\"2023-03-04T17:03:54.684: Initialization Phase ...\",\"2023-03-04T17:04:07.058: Iteration Phase ...\",\"2023-03-04T17:04:49.567: Completion Phase ...\",\"754 MB of temporary storage was used.\",\"Succeeded at 04 March 2023 17:05:10 (Elapsed Time: 1 minutes 49 seconds)\"]' data-show='true'><div id = 'default' /></div></div>"
      ],
      "text/plain": [
       "<geoprocessing server result object object at 0x000001FA44D98090>"
      ]
     },
     "execution_count": 13,
     "metadata": {},
     "output_type": "execute_result"
    }
   ],
   "source": [
    "print (\"Watershed\")\n",
    "arcpy.gp.Watershed_sa(\"FlowDir_asf\", \"BSRegions\", \"Watersheds_asf\", \"VALUE\")"
   ]
  },
  {
   "cell_type": "code",
   "execution_count": 14,
   "metadata": {},
   "outputs": [
    {
     "name": "stdout",
     "output_type": "stream",
     "text": [
      "Build Raster Attribute Table\n",
      "Add Field (2)\n",
      "Calculate Field (2)\n"
     ]
    },
    {
     "data": {
      "text/html": [
       "<div class='gpresult'><h2>Messages</h2><div id='messages' data-messages='[\"Start Time: 04 March 2023 17:06:14\",\"Succeeded at 04 March 2023 17:06:15 (Elapsed Time: 0.65 seconds)\"]' data-show='true'><div id = 'default' /></div></div>"
      ],
      "text/plain": [
       "<Result 'Watersheds_asf'>"
      ]
     },
     "execution_count": 14,
     "metadata": {},
     "output_type": "execute_result"
    }
   ],
   "source": [
    "print (\"Build Raster Attribute Table\")\n",
    "arcpy.BuildRasterAttributeTable_management(\"Watersheds_asf\", \"NONE\")\n",
    "print (\"Add Field (2)\")\n",
    "arcpy.AddField_management(\"Watersheds_asf\", \"WatershedArea\", \"FLOAT\", \"\", \"\", \"\", \"\", \"NULLABLE\", \"NON_REQUIRED\", \"\")\n",
    "print (\"Calculate Field (2)\")\n",
    "arcpy.management.CalculateField(\"Watersheds_asf\", \"WatershedArea\", \"!Count!\", \"PYTHON3\", \"\", \"TEXT\", \"NO_ENFORCE_DOMAINS\")"
   ]
  },
  {
   "cell_type": "code",
   "execution_count": 15,
   "metadata": {},
   "outputs": [
    {
     "name": "stdout",
     "output_type": "stream",
     "text": [
      "Join Field (3)\n",
      "Add Field (3)\n",
      "Calculate Field (3)\n"
     ]
    },
    {
     "data": {
      "text/html": [
       "<div class='gpresult'><h2>Messages</h2><div id='messages' data-messages='[\"Start Time: 04 March 2023 17:07:51\",\"Succeeded at 04 March 2023 17:07:52 (Elapsed Time: 0.76 seconds)\"]' data-show='true'><div id = 'default' /></div></div>"
      ],
      "text/plain": [
       "<Result 'BSRegions'>"
      ]
     },
     "execution_count": 15,
     "metadata": {},
     "output_type": "execute_result"
    }
   ],
   "source": [
    "# Field Management\n",
    "print (\"Join Field (3)\")\n",
    "arcpy.JoinField_management(\"BSRegions\", \"Value\", \"Watersheds_asf\", \"Value\", \"WatershedArea\")\n",
    "print (\"Add Field (3)\")\n",
    "arcpy.AddField_management(\"BSRegions\", \"FillUp\", \"FLOAT\", \"\", \"\", \"\", \"\", \"NULLABLE\", \"NON_REQUIRED\", \"\")\n",
    "print (\"Calculate Field (3)\")\n",
    "##The Volume field contains the volume of each bluespot (in cubic meters).\n",
    "##The FillUp field contains the amount of rainfall (in millimeters) needed to fill each bluespot in a cloudburst.\n",
    "arcpy.management.CalculateField(\"BSRegions\", \"FillUp\", \"(!Volume! * 1000) / !WatershedArea!\", \"PYTHON3\", \"\", \"TEXT\", \"NO_ENFORCE_DOMAINS\")"
   ]
  },
  {
   "cell_type": "code",
   "execution_count": 16,
   "metadata": {},
   "outputs": [
    {
     "name": "stdout",
     "output_type": "stream",
     "text": [
      "Raster to Polygon (2)\n",
      "Dissolve\n",
      "Join Field (4)\n"
     ]
    },
    {
     "data": {
      "text/html": [
       "<div class='gpresult'><h2>Messages</h2><div id='messages' data-messages='[\"Start Time: 04 March 2023 17:09:23\",\"Succeeded at 04 March 2023 17:09:28 (Elapsed Time: 4.70 seconds)\"]' data-show='true'><div id = 'default' /></div></div>"
      ],
      "text/plain": [
       "<Result 'fcBSRegions2'>"
      ]
     },
     "execution_count": 16,
     "metadata": {},
     "output_type": "execute_result"
    }
   ],
   "source": [
    "# Transform bluespots to polygon\n",
    "print (\"Raster to Polygon (2)\")\n",
    "arcpy.RasterToPolygon_conversion(\"BSRegions\", \"fcBSRegions\", \"NO_SIMPLIFY\", \"VALUE\", \"SINGLE_OUTER_PART\", \"\")\n",
    "print (\"Dissolve\")\n",
    "arcpy.Dissolve_management(\"fcBSRegions\", \"fcBSRegions2\", \"gridcode\", \"\", \"MULTI_PART\", \"DISSOLVE_LINES\")\n",
    "print (\"Join Field (4)\")\n",
    "arcpy.JoinField_management(\"fcBSRegions2\", \"gridcode\", \"BSRegions\", \"Value\", \"Volume;FillUp\")"
   ]
  },
  {
   "cell_type": "code",
   "execution_count": 17,
   "metadata": {},
   "outputs": [
    {
     "name": "stdout",
     "output_type": "stream",
     "text": [
      "Add field for fillup values adjusted for 20 mm sewer capacity\n",
      "Calculate Field (3)\n"
     ]
    },
    {
     "data": {
      "text/html": [
       "<div class='gpresult'><h2>Messages</h2><div id='messages' data-messages='[\"Start Time: 04 March 2023 17:12:07\",\"Succeeded at 04 March 2023 17:12:09 (Elapsed Time: 1.42 seconds)\"]' data-show='true'><div id = 'default' /></div></div>"
      ],
      "text/plain": [
       "<Result 'fcBSRegions2'>"
      ]
     },
     "execution_count": 17,
     "metadata": {},
     "output_type": "execute_result"
    }
   ],
   "source": [
    "print (\"Add field for fillup values adjusted for 20 mm sewer capacity\")\n",
    "#### FillUp + 20 mmm assuming that the sewer system capacity can handle 20 mm a rain per hour\n",
    "arcpy.AddField_management(\"fcBSRegions2\", \"FillUp20\", \"FLOAT\", \"\", \"\", \"\", \"\", \"NULLABLE\", \"NON_REQUIRED\", \"\")\n",
    "print (\"Calculate Field (3)\")\n",
    "arcpy.CalculateField_management(\"fcBSRegions2\", \"FillUp20\", \"!FillUp! + 20\", \"PYTHON3\", \"\")"
   ]
  },
  {
   "cell_type": "code",
   "execution_count": null,
   "metadata": {},
   "outputs": [],
   "source": []
  },
  {
   "cell_type": "code",
   "execution_count": null,
   "metadata": {},
   "outputs": [],
   "source": []
  },
  {
   "cell_type": "code",
   "execution_count": null,
   "metadata": {},
   "outputs": [],
   "source": []
  },
  {
   "cell_type": "code",
   "execution_count": null,
   "metadata": {},
   "outputs": [],
   "source": []
  },
  {
   "cell_type": "code",
   "execution_count": null,
   "metadata": {},
   "outputs": [],
   "source": []
  },
  {
   "cell_type": "code",
   "execution_count": null,
   "metadata": {},
   "outputs": [],
   "source": []
  },
  {
   "cell_type": "code",
   "execution_count": null,
   "metadata": {},
   "outputs": [],
   "source": []
  }
 ],
 "metadata": {
  "kernelspec": {
   "display_name": "ArcGISPro",
   "language": "Python",
   "name": "python3"
  },
  "language_info": {
   "file_extension": ".py",
   "name": "python",
   "version": "3"
  }
 },
 "nbformat": 4,
 "nbformat_minor": 2
}
